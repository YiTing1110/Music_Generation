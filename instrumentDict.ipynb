{
 "cells": [
  {
   "cell_type": "code",
   "execution_count": 1,
   "metadata": {},
   "outputs": [],
   "source": [
    "import os\n",
    "from music21 import *\n",
    "import warnings\n",
    "warnings.filterwarnings(\"ignore\")\n",
    "import pandas as pd"
   ]
  },
  {
   "cell_type": "code",
   "execution_count": 7,
   "metadata": {},
   "outputs": [
    {
     "name": "stdout",
     "output_type": "stream",
     "text": [
      "#1Crush.mid\n",
      "<music21.stream.Part Percussion>\n",
      "<music21.stream.Part Electric Piano>\n",
      "<music21.stream.Part Fills Timpani>\n",
      "<music21.stream.Part Timpani>\n",
      "<music21.stream.Part Bass>\n",
      "<music21.stream.Part Fretless Bass>\n",
      "<music21.stream.Part Sampler>\n",
      "<music21.stream.Part Electric Guitar>\n",
      "<music21.stream.Part Choir>\n",
      "<music21.stream.Part StringInstrument>\n",
      "<music21.stream.Part Piano>\n",
      "00-711.mid\n",
      "<music21.stream.Part Electric Guitar>\n",
      "<music21.stream.Part Bass>\n",
      "<music21.stream.Part Electric Bass>\n",
      "<music21.stream.Part Acoustic Guitar>\n",
      "<music21.stream.Part Percussion>\n",
      "<music21.stream.Part Low Tom 1>\n",
      "<music21.stream.Part Mid Tom 2>\n",
      "<music21.stream.Part Crash 1>\n",
      "<music21.stream.Part Crash 2>\n",
      "1Zero.mid\n",
      "<music21.stream.Part Electric Guitar>\n",
      "<music21.stream.Part Electric Bass>\n",
      "<music21.stream.Part Percussion>\n",
      "2+2=5.mid\n",
      "<music21.stream.Part Electric Guitar>\n",
      "<music21.stream.Part Electric Bass>\n",
      "<music21.stream.Part Percussion>\n",
      "2A.M..mid\n",
      "<music21.stream.Part 0x2798bbe8dc0>\n",
      "<music21.stream.Part Vocals>\n",
      "<music21.stream.Part Choir>\n",
      "<music21.stream.Part Guitar 1>\n",
      "<music21.stream.Part Acoustic Guitar>\n",
      "<music21.stream.Part Electric Guitar>\n",
      "<music21.stream.Part Guitar 2>\n",
      "<music21.stream.Part Guitar 3>\n",
      "<music21.stream.Part Bass>\n",
      "<music21.stream.Part Electric Bass>\n",
      "<music21.stream.Part Drums>\n"
     ]
    }
   ],
   "source": [
    "filepath = r\"./test/\"\n",
    "instruments = []\n",
    "midiList = pd.DataFrame(columns=[], index=os.listdir(filepath))\n",
    "for m in midiList.index:\n",
    "    print(m)\n",
    "    music = converter.parse(filepath + m)\n",
    "    try:\n",
    "        for part in instrument.partitionByInstrument(music).parts:\n",
    "            instruments.append(part.partName)\n",
    "            print(part)\n",
    "    except:\n",
    "        print(f)"
   ]
  },
  {
   "cell_type": "code",
   "execution_count": 8,
   "metadata": {},
   "outputs": [
    {
     "data": {
      "text/html": [
       "<div>\n",
       "<style scoped>\n",
       "    .dataframe tbody tr th:only-of-type {\n",
       "        vertical-align: middle;\n",
       "    }\n",
       "\n",
       "    .dataframe tbody tr th {\n",
       "        vertical-align: top;\n",
       "    }\n",
       "\n",
       "    .dataframe thead th {\n",
       "        text-align: right;\n",
       "    }\n",
       "</style>\n",
       "<table border=\"1\" class=\"dataframe\">\n",
       "  <thead>\n",
       "    <tr style=\"text-align: right;\">\n",
       "      <th></th>\n",
       "    </tr>\n",
       "  </thead>\n",
       "  <tbody>\n",
       "    <tr>\n",
       "      <th>#1Crush.mid</th>\n",
       "    </tr>\n",
       "    <tr>\n",
       "      <th>00-711.mid</th>\n",
       "    </tr>\n",
       "    <tr>\n",
       "      <th>1Zero.mid</th>\n",
       "    </tr>\n",
       "    <tr>\n",
       "      <th>2+2=5.mid</th>\n",
       "    </tr>\n",
       "    <tr>\n",
       "      <th>2A.M..mid</th>\n",
       "    </tr>\n",
       "  </tbody>\n",
       "</table>\n",
       "</div>"
      ],
      "text/plain": [
       "Empty DataFrame\n",
       "Columns: []\n",
       "Index: [#1Crush.mid, 00-711.mid, 1Zero.mid, 2+2=5.mid, 2A.M..mid]"
      ]
     },
     "execution_count": 8,
     "metadata": {},
     "output_type": "execute_result"
    }
   ],
   "source": [
    "midiList"
   ]
  },
  {
   "cell_type": "code",
   "execution_count": 9,
   "metadata": {},
   "outputs": [
    {
     "data": {
      "text/plain": [
       "['Drum',\n",
       " 'Rhodes',\n",
       " 'Fills Timpani',\n",
       " 'Timpani',\n",
       " 'Bass',\n",
       " 'Fretless Bass',\n",
       " 'Vox',\n",
       " 'Dist Guit Right',\n",
       " 'Oooh/Aaah',\n",
       " 'String (fast)',\n",
       " 'Vox mirror',\n",
       " 'Lead',\n",
       " 'Bass',\n",
       " 'Electric Bass',\n",
       " 'Rhythm chords',\n",
       " 'Kick',\n",
       " 'Low Tom 1',\n",
       " 'Mid Tom 2',\n",
       " 'Crash 1',\n",
       " 'Crash 2',\n",
       " 'Electric Guitar',\n",
       " 'Electric Bass',\n",
       " 'Percussion',\n",
       " 'Electric Guitar',\n",
       " 'Electric Bass',\n",
       " 'Percussion',\n",
       " 'Vocals',\n",
       " 'Vocals',\n",
       " 'Choir',\n",
       " 'Guitar 1',\n",
       " 'Acoustic Guitar',\n",
       " 'Electric Guitar',\n",
       " 'Guitar 2',\n",
       " 'Guitar 3',\n",
       " 'Bass',\n",
       " 'Electric Bass',\n",
       " 'Drums']"
      ]
     },
     "execution_count": 9,
     "metadata": {},
     "output_type": "execute_result"
    }
   ],
   "source": [
    "instruments"
   ]
  }
 ],
 "metadata": {
  "kernelspec": {
   "display_name": "base",
   "language": "python",
   "name": "python3"
  },
  "language_info": {
   "codemirror_mode": {
    "name": "ipython",
    "version": 3
   },
   "file_extension": ".py",
   "mimetype": "text/x-python",
   "name": "python",
   "nbconvert_exporter": "python",
   "pygments_lexer": "ipython3",
   "version": "3.9.12"
  },
  "orig_nbformat": 4
 },
 "nbformat": 4,
 "nbformat_minor": 2
}
