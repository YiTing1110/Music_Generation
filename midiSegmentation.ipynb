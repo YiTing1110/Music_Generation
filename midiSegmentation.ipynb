{
 "cells": [
  {
   "cell_type": "code",
   "execution_count": 1,
   "metadata": {},
   "outputs": [],
   "source": [
    "import os\n",
    "from music21 import *\n",
    "import warnings\n",
    "warnings.filterwarnings(\"ignore\")"
   ]
  },
  {
   "cell_type": "code",
   "execution_count": 3,
   "metadata": {},
   "outputs": [
    {
     "data": {
      "text/plain": [
       "{'offsetSeconds': 0.5,\n",
       " 'durationSeconds': 0.5,\n",
       " 'endTimeSeconds': 1.0,\n",
       " 'element': <music21.note.Unpitched object at 0x17cf9a9d520>,\n",
       " 'voiceIndex': None}"
      ]
     },
     "execution_count": 3,
     "metadata": {},
     "output_type": "execute_result"
    }
   ],
   "source": [
    "filepath = \"./rock/Vertigo.mid\"\n",
    "music = converter.parse(filepath)\n",
    "notes = music.flat.notes.secondsMap"
   ]
  },
  {
   "cell_type": "code",
   "execution_count": null,
   "metadata": {},
   "outputs": [],
   "source": [
    "filepath = r\"./test/\"\n",
    "midis = os.listdir(filepath)\n",
    "for m in midis:\n",
    "    music = converter.parse(filepath + m)\n",
    "    notes = music.flat.notes.secondsMap"
   ]
  }
 ],
 "metadata": {
  "kernelspec": {
   "display_name": "base",
   "language": "python",
   "name": "python3"
  },
  "language_info": {
   "codemirror_mode": {
    "name": "ipython",
    "version": 3
   },
   "file_extension": ".py",
   "mimetype": "text/x-python",
   "name": "python",
   "nbconvert_exporter": "python",
   "pygments_lexer": "ipython3",
   "version": "3.9.12"
  },
  "orig_nbformat": 4
 },
 "nbformat": 4,
 "nbformat_minor": 2
}
